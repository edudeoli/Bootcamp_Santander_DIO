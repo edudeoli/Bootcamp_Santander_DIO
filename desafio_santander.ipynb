{
 "cells": [
  {
   "cell_type": "markdown",
   "id": "5e0086c5",
   "metadata": {},
   "source": [
    "#### Esse é um projeto de ETL simples para o BOOTCAMP do Banco Santander juntamente com a plataforma DIO. O dataset utilizado nesse projeto é público do Kaggle."
   ]
  },
  {
   "cell_type": "markdown",
   "id": "93ce27b7",
   "metadata": {},
   "source": [
    "#### Desafio: O Banco enviou um arquivo csv contendo uma base com vários clientes espalhados por alguns países e solicitou que fosse feito um dataset para cada país da base de dados - em arquivo excel -para que posteriormente cada diretor de marketing de cada país constante receba seu arquivo. O banco solicitou também que juntamente com o dataset seja encaminhado um gráfico simples com a divisão dos clientes por M. e F. e a resposta para a pergunta abaixo:\n",
    "- Que faixa etária tem maior score de crédito (entre todos os países)?\n",
    "    - Abaixo de 25 anos\n",
    "    - De 25 a 30 anos\n",
    "    - De 31 a 35 anos\n",
    "    - De 36 a 40 anos\n",
    "    - De 41 a 45 anos\n",
    "    - Acima de 46 anos"
   ]
  },
  {
   "cell_type": "code",
   "execution_count": 53,
   "id": "dd560771",
   "metadata": {},
   "outputs": [],
   "source": [
    "# 1 - Solicitou que fosse feito um dataset para cada país em arquivo excel\n",
    "# 2 - Solicitou um gráfico simples com a divisão de clientes por M e F de cada dataset criado\n",
    "# 3 - Qual faixa etária tem o maior score de crédito envolvendo todos os países"
   ]
  },
  {
   "cell_type": "code",
   "execution_count": 65,
   "id": "2d7b71ff",
   "metadata": {},
   "outputs": [],
   "source": [
    "# Importanto a biblioteca pandas para a leita do dataset\n",
    "import pandas as pd\n",
    "\n",
    "# Importanto a biblioteca openpyxl para criar arquivos em excel\n",
    "from openpyxl import Workbook\n",
    "\n",
    "# Importando matplotlib para criação de gráficos\n",
    "import matplotlib.pyplot as plt"
   ]
  },
  {
   "cell_type": "code",
   "execution_count": 29,
   "id": "3b0b7c1a",
   "metadata": {},
   "outputs": [
    {
     "data": {
      "text/plain": [
       "(10000, 14)"
      ]
     },
     "execution_count": 29,
     "metadata": {},
     "output_type": "execute_result"
    }
   ],
   "source": [
    "# Fazendo a leitura do arquivo.\n",
    "df = pd.read_csv('dataset_churn.csv', delimiter=',')\n",
    "df.shape"
   ]
  },
  {
   "cell_type": "code",
   "execution_count": 26,
   "id": "949cee09",
   "metadata": {},
   "outputs": [
    {
     "data": {
      "text/plain": [
       "RowNumber          0\n",
       "CustomerId         0\n",
       "Surname            0\n",
       "CreditScore        0\n",
       "Geography          0\n",
       "Gender             0\n",
       "Age                0\n",
       "Tenure             0\n",
       "Balance            0\n",
       "NumOfProducts      0\n",
       "HasCrCard          0\n",
       "IsActiveMember     0\n",
       "EstimatedSalary    0\n",
       "Exited             0\n",
       "dtype: int64"
      ]
     },
     "execution_count": 26,
     "metadata": {},
     "output_type": "execute_result"
    }
   ],
   "source": [
    "# Verificando as colunas e eventuais campos vazios.\n",
    "df.isnull().sum()"
   ]
  },
  {
   "cell_type": "code",
   "execution_count": 23,
   "id": "0a12dc44",
   "metadata": {},
   "outputs": [
    {
     "name": "stdout",
     "output_type": "stream",
     "text": [
      "<class 'pandas.core.frame.DataFrame'>\n",
      "RangeIndex: 10000 entries, 0 to 9999\n",
      "Data columns (total 14 columns):\n",
      " #   Column           Non-Null Count  Dtype  \n",
      "---  ------           --------------  -----  \n",
      " 0   RowNumber        10000 non-null  int64  \n",
      " 1   CustomerId       10000 non-null  int64  \n",
      " 2   Surname          10000 non-null  object \n",
      " 3   CreditScore      10000 non-null  int64  \n",
      " 4   Geography        10000 non-null  object \n",
      " 5   Gender           10000 non-null  object \n",
      " 6   Age              10000 non-null  int64  \n",
      " 7   Tenure           10000 non-null  int64  \n",
      " 8   Balance          10000 non-null  float64\n",
      " 9   NumOfProducts    10000 non-null  int64  \n",
      " 10  HasCrCard        10000 non-null  int64  \n",
      " 11  IsActiveMember   10000 non-null  int64  \n",
      " 12  EstimatedSalary  10000 non-null  float64\n",
      " 13  Exited           10000 non-null  int64  \n",
      "dtypes: float64(2), int64(9), object(3)\n",
      "memory usage: 1.1+ MB\n"
     ]
    }
   ],
   "source": [
    "# Informações do dataset\n",
    "df.info()"
   ]
  },
  {
   "cell_type": "code",
   "execution_count": 36,
   "id": "de61a0ef",
   "metadata": {},
   "outputs": [],
   "source": [
    "# Devido o questionamento do banco,\n",
    "# Optei por dropar algumas colunas que não terão utilidade para a resposta da questão.\n",
    "df1 = df.drop(\n",
    "    [\"RowNumber\", \"Surname\", \"Tenure\", \"Balance\", \n",
    "     \"NumOfProducts\", \"HasCrCard\", \"IsActiveMember\", \"Exited\"], axis = 1)"
   ]
  },
  {
   "cell_type": "code",
   "execution_count": 45,
   "id": "8493b1d4",
   "metadata": {},
   "outputs": [
    {
     "data": {
      "text/html": [
       "<div>\n",
       "<style scoped>\n",
       "    .dataframe tbody tr th:only-of-type {\n",
       "        vertical-align: middle;\n",
       "    }\n",
       "\n",
       "    .dataframe tbody tr th {\n",
       "        vertical-align: top;\n",
       "    }\n",
       "\n",
       "    .dataframe thead th {\n",
       "        text-align: right;\n",
       "    }\n",
       "</style>\n",
       "<table border=\"1\" class=\"dataframe\">\n",
       "  <thead>\n",
       "    <tr style=\"text-align: right;\">\n",
       "      <th></th>\n",
       "      <th>CustomerId</th>\n",
       "      <th>CreditScore</th>\n",
       "      <th>Geography</th>\n",
       "      <th>Gender</th>\n",
       "      <th>Age</th>\n",
       "      <th>EstimatedSalary</th>\n",
       "    </tr>\n",
       "  </thead>\n",
       "  <tbody>\n",
       "    <tr>\n",
       "      <th>0</th>\n",
       "      <td>15634602</td>\n",
       "      <td>619</td>\n",
       "      <td>France</td>\n",
       "      <td>Female</td>\n",
       "      <td>42</td>\n",
       "      <td>101348.88</td>\n",
       "    </tr>\n",
       "    <tr>\n",
       "      <th>1</th>\n",
       "      <td>15647311</td>\n",
       "      <td>608</td>\n",
       "      <td>Spain</td>\n",
       "      <td>Female</td>\n",
       "      <td>41</td>\n",
       "      <td>112542.58</td>\n",
       "    </tr>\n",
       "    <tr>\n",
       "      <th>2</th>\n",
       "      <td>15619304</td>\n",
       "      <td>502</td>\n",
       "      <td>France</td>\n",
       "      <td>Female</td>\n",
       "      <td>42</td>\n",
       "      <td>113931.57</td>\n",
       "    </tr>\n",
       "    <tr>\n",
       "      <th>3</th>\n",
       "      <td>15701354</td>\n",
       "      <td>699</td>\n",
       "      <td>France</td>\n",
       "      <td>Female</td>\n",
       "      <td>39</td>\n",
       "      <td>93826.63</td>\n",
       "    </tr>\n",
       "    <tr>\n",
       "      <th>4</th>\n",
       "      <td>15737888</td>\n",
       "      <td>850</td>\n",
       "      <td>Spain</td>\n",
       "      <td>Female</td>\n",
       "      <td>43</td>\n",
       "      <td>79084.10</td>\n",
       "    </tr>\n",
       "  </tbody>\n",
       "</table>\n",
       "</div>"
      ],
      "text/plain": [
       "   CustomerId  CreditScore Geography  Gender  Age  EstimatedSalary\n",
       "0    15634602          619    France  Female   42        101348.88\n",
       "1    15647311          608     Spain  Female   41        112542.58\n",
       "2    15619304          502    France  Female   42        113931.57\n",
       "3    15701354          699    France  Female   39         93826.63\n",
       "4    15737888          850     Spain  Female   43         79084.10"
      ]
     },
     "execution_count": 45,
     "metadata": {},
     "output_type": "execute_result"
    }
   ],
   "source": [
    "df1.head()"
   ]
  },
  {
   "cell_type": "code",
   "execution_count": 39,
   "id": "bd01802f",
   "metadata": {},
   "outputs": [
    {
     "name": "stdout",
     "output_type": "stream",
     "text": [
      "O numero de cadastros unicos é: 10000\n"
     ]
    }
   ],
   "source": [
    "# Verificar quantos cadastros únicos existem no df\n",
    "customer_unique = len(df1.loc[:, 'CustomerId'].unique())\n",
    "print('O numero de cadastros unicos é: {}'.format(customer_unique))"
   ]
  },
  {
   "cell_type": "code",
   "execution_count": 41,
   "id": "1001d402",
   "metadata": {},
   "outputs": [
    {
     "name": "stdout",
     "output_type": "stream",
     "text": [
      "Quantidade de linhas: 10000\n"
     ]
    }
   ],
   "source": [
    "# Não há cadastros duplicados pois a quantidade de linhas é igual ao de cadastros únicos\n",
    "quantidade_linhas = df.shape[0]\n",
    "print(\"Quantidade de linhas:\", quantidade_linhas)"
   ]
  },
  {
   "cell_type": "code",
   "execution_count": 48,
   "id": "b46e1df5",
   "metadata": {},
   "outputs": [
    {
     "name": "stdout",
     "output_type": "stream",
     "text": [
      "Nomes dos países únicos:\n",
      "France\n",
      "Spain\n",
      "Germany\n"
     ]
    }
   ],
   "source": [
    "# Agora eu preciso saber quantos países únicos eu tenho em meu dataframe\n",
    "paises_unicos = df1.loc[:, 'Geography'].unique()\n",
    "paises_unicos\n",
    "\n",
    "# E saber quais são\n",
    "print(\"Nomes dos países únicos:\")\n",
    "for pais in paises_unicos:\n",
    "    print(pais)"
   ]
  },
  {
   "cell_type": "markdown",
   "id": "125ff63d",
   "metadata": {},
   "source": [
    "### 1 - Solicitou que fosse feito um dataset para cada país em arquivo excel"
   ]
  },
  {
   "cell_type": "code",
   "execution_count": 57,
   "id": "95b8a8ae",
   "metadata": {},
   "outputs": [],
   "source": [
    "# Aqui eu vou criar os arquivos em excel para cada país - france, germany e spain\n",
    "# (certifique-se de ter instalado o openxyl)\n",
    "grupo_por_pais = df1.groupby('Geography')\n",
    "\n",
    "for pais, dados in grupo_por_pais:\n",
    "    # Criar um novo Workbook do openpyxl\n",
    "    wb = Workbook()\n",
    "    ws = wb.active\n",
    "    colunas = list(dados.columns)\n",
    "    ws.append(colunas)\n",
    "    dados_lista = dados.values.tolist()\n",
    "    for linha in dados_lista:\n",
    "        ws.append(linha)\n",
    "\n",
    "    # Salvar o Workbook em um arquivo Excel\n",
    "    nome_arquivo = f\"{pais}.xlsx\"  # Nome do arquivo será o nome do país\n",
    "    wb.save(nome_arquivo)"
   ]
  },
  {
   "cell_type": "markdown",
   "id": "a73734b4",
   "metadata": {},
   "source": [
    "### 2 - O Banco solicitou um gráfico simples com a divisão de clientes por M e F de cada df criado."
   ]
  },
  {
   "cell_type": "markdown",
   "id": "28fa0a98",
   "metadata": {},
   "source": [
    "#### 2.1 - Criando um dataframe da França."
   ]
  },
  {
   "cell_type": "code",
   "execution_count": 62,
   "id": "2632e228",
   "metadata": {},
   "outputs": [
    {
     "data": {
      "text/html": [
       "<div>\n",
       "<style scoped>\n",
       "    .dataframe tbody tr th:only-of-type {\n",
       "        vertical-align: middle;\n",
       "    }\n",
       "\n",
       "    .dataframe tbody tr th {\n",
       "        vertical-align: top;\n",
       "    }\n",
       "\n",
       "    .dataframe thead th {\n",
       "        text-align: right;\n",
       "    }\n",
       "</style>\n",
       "<table border=\"1\" class=\"dataframe\">\n",
       "  <thead>\n",
       "    <tr style=\"text-align: right;\">\n",
       "      <th></th>\n",
       "      <th>CustomerId</th>\n",
       "      <th>CreditScore</th>\n",
       "      <th>Geography</th>\n",
       "      <th>Gender</th>\n",
       "      <th>Age</th>\n",
       "      <th>EstimatedSalary</th>\n",
       "    </tr>\n",
       "  </thead>\n",
       "  <tbody>\n",
       "    <tr>\n",
       "      <th>0</th>\n",
       "      <td>15634602</td>\n",
       "      <td>619</td>\n",
       "      <td>France</td>\n",
       "      <td>Female</td>\n",
       "      <td>42</td>\n",
       "      <td>101348.88</td>\n",
       "    </tr>\n",
       "    <tr>\n",
       "      <th>2</th>\n",
       "      <td>15619304</td>\n",
       "      <td>502</td>\n",
       "      <td>France</td>\n",
       "      <td>Female</td>\n",
       "      <td>42</td>\n",
       "      <td>113931.57</td>\n",
       "    </tr>\n",
       "    <tr>\n",
       "      <th>3</th>\n",
       "      <td>15701354</td>\n",
       "      <td>699</td>\n",
       "      <td>France</td>\n",
       "      <td>Female</td>\n",
       "      <td>39</td>\n",
       "      <td>93826.63</td>\n",
       "    </tr>\n",
       "    <tr>\n",
       "      <th>6</th>\n",
       "      <td>15592531</td>\n",
       "      <td>822</td>\n",
       "      <td>France</td>\n",
       "      <td>Male</td>\n",
       "      <td>50</td>\n",
       "      <td>10062.80</td>\n",
       "    </tr>\n",
       "    <tr>\n",
       "      <th>8</th>\n",
       "      <td>15792365</td>\n",
       "      <td>501</td>\n",
       "      <td>France</td>\n",
       "      <td>Male</td>\n",
       "      <td>44</td>\n",
       "      <td>74940.50</td>\n",
       "    </tr>\n",
       "    <tr>\n",
       "      <th>...</th>\n",
       "      <td>...</td>\n",
       "      <td>...</td>\n",
       "      <td>...</td>\n",
       "      <td>...</td>\n",
       "      <td>...</td>\n",
       "      <td>...</td>\n",
       "    </tr>\n",
       "    <tr>\n",
       "      <th>9994</th>\n",
       "      <td>15719294</td>\n",
       "      <td>800</td>\n",
       "      <td>France</td>\n",
       "      <td>Female</td>\n",
       "      <td>29</td>\n",
       "      <td>167773.55</td>\n",
       "    </tr>\n",
       "    <tr>\n",
       "      <th>9995</th>\n",
       "      <td>15606229</td>\n",
       "      <td>771</td>\n",
       "      <td>France</td>\n",
       "      <td>Male</td>\n",
       "      <td>39</td>\n",
       "      <td>96270.64</td>\n",
       "    </tr>\n",
       "    <tr>\n",
       "      <th>9996</th>\n",
       "      <td>15569892</td>\n",
       "      <td>516</td>\n",
       "      <td>France</td>\n",
       "      <td>Male</td>\n",
       "      <td>35</td>\n",
       "      <td>101699.77</td>\n",
       "    </tr>\n",
       "    <tr>\n",
       "      <th>9997</th>\n",
       "      <td>15584532</td>\n",
       "      <td>709</td>\n",
       "      <td>France</td>\n",
       "      <td>Female</td>\n",
       "      <td>36</td>\n",
       "      <td>42085.58</td>\n",
       "    </tr>\n",
       "    <tr>\n",
       "      <th>9999</th>\n",
       "      <td>15628319</td>\n",
       "      <td>792</td>\n",
       "      <td>France</td>\n",
       "      <td>Female</td>\n",
       "      <td>28</td>\n",
       "      <td>38190.78</td>\n",
       "    </tr>\n",
       "  </tbody>\n",
       "</table>\n",
       "<p>5014 rows × 6 columns</p>\n",
       "</div>"
      ],
      "text/plain": [
       "      CustomerId  CreditScore Geography  Gender  Age  EstimatedSalary\n",
       "0       15634602          619    France  Female   42        101348.88\n",
       "2       15619304          502    France  Female   42        113931.57\n",
       "3       15701354          699    France  Female   39         93826.63\n",
       "6       15592531          822    France    Male   50         10062.80\n",
       "8       15792365          501    France    Male   44         74940.50\n",
       "...          ...          ...       ...     ...  ...              ...\n",
       "9994    15719294          800    France  Female   29        167773.55\n",
       "9995    15606229          771    France    Male   39         96270.64\n",
       "9996    15569892          516    France    Male   35        101699.77\n",
       "9997    15584532          709    France  Female   36         42085.58\n",
       "9999    15628319          792    France  Female   28         38190.78\n",
       "\n",
       "[5014 rows x 6 columns]"
      ]
     },
     "execution_count": 62,
     "metadata": {},
     "output_type": "execute_result"
    }
   ],
   "source": [
    "# Criando um dataframe da França\n",
    "df_france = df1[df1['Geography'] == 'France'].copy()\n",
    "df_france"
   ]
  },
  {
   "cell_type": "code",
   "execution_count": 69,
   "id": "e280cca4",
   "metadata": {},
   "outputs": [
    {
     "data": {
      "image/png": "[encoded data removed]",
      "text/plain": [
       "<Figure size 600x600 with 1 Axes>"
      ]
     },
     "metadata": {},
     "output_type": "display_data"
    }
   ],
   "source": [
    "# Criando um gráfico de pizza para clientes M e F da França\n",
    "grupo_por_genero = df_france.groupby('Gender').size()\n",
    "plt.figure(figsize=(6, 6))\n",
    "plt.pie(grupo_por_genero, labels=grupo_por_genero.index, autopct='%1.1f%%', startangle=140, colors=['blue', 'pink'])\n",
    "plt.title('Distribuição de Gênero')\n",
    "plt.show()"
   ]
  },
  {
   "cell_type": "markdown",
   "id": "09dc7b7b",
   "metadata": {},
   "source": [
    "### 2.2 - Criando um dataframe da Espanha."
   ]
  },
  {
   "cell_type": "code",
   "execution_count": 68,
   "id": "39109d6d",
   "metadata": {},
   "outputs": [
    {
     "data": {
      "text/html": [
       "<div>\n",
       "<style scoped>\n",
       "    .dataframe tbody tr th:only-of-type {\n",
       "        vertical-align: middle;\n",
       "    }\n",
       "\n",
       "    .dataframe tbody tr th {\n",
       "        vertical-align: top;\n",
       "    }\n",
       "\n",
       "    .dataframe thead th {\n",
       "        text-align: right;\n",
       "    }\n",
       "</style>\n",
       "<table border=\"1\" class=\"dataframe\">\n",
       "  <thead>\n",
       "    <tr style=\"text-align: right;\">\n",
       "      <th></th>\n",
       "      <th>CustomerId</th>\n",
       "      <th>CreditScore</th>\n",
       "      <th>Geography</th>\n",
       "      <th>Gender</th>\n",
       "      <th>Age</th>\n",
       "      <th>EstimatedSalary</th>\n",
       "    </tr>\n",
       "  </thead>\n",
       "  <tbody>\n",
       "    <tr>\n",
       "      <th>1</th>\n",
       "      <td>15647311</td>\n",
       "      <td>608</td>\n",
       "      <td>Spain</td>\n",
       "      <td>Female</td>\n",
       "      <td>41</td>\n",
       "      <td>112542.58</td>\n",
       "    </tr>\n",
       "    <tr>\n",
       "      <th>4</th>\n",
       "      <td>15737888</td>\n",
       "      <td>850</td>\n",
       "      <td>Spain</td>\n",
       "      <td>Female</td>\n",
       "      <td>43</td>\n",
       "      <td>79084.10</td>\n",
       "    </tr>\n",
       "    <tr>\n",
       "      <th>5</th>\n",
       "      <td>15574012</td>\n",
       "      <td>645</td>\n",
       "      <td>Spain</td>\n",
       "      <td>Male</td>\n",
       "      <td>44</td>\n",
       "      <td>149756.71</td>\n",
       "    </tr>\n",
       "    <tr>\n",
       "      <th>11</th>\n",
       "      <td>15737173</td>\n",
       "      <td>497</td>\n",
       "      <td>Spain</td>\n",
       "      <td>Male</td>\n",
       "      <td>24</td>\n",
       "      <td>76390.01</td>\n",
       "    </tr>\n",
       "    <tr>\n",
       "      <th>14</th>\n",
       "      <td>15600882</td>\n",
       "      <td>635</td>\n",
       "      <td>Spain</td>\n",
       "      <td>Female</td>\n",
       "      <td>35</td>\n",
       "      <td>65951.65</td>\n",
       "    </tr>\n",
       "    <tr>\n",
       "      <th>...</th>\n",
       "      <td>...</td>\n",
       "      <td>...</td>\n",
       "      <td>...</td>\n",
       "      <td>...</td>\n",
       "      <td>...</td>\n",
       "      <td>...</td>\n",
       "    </tr>\n",
       "    <tr>\n",
       "      <th>9966</th>\n",
       "      <td>15590213</td>\n",
       "      <td>479</td>\n",
       "      <td>Spain</td>\n",
       "      <td>Male</td>\n",
       "      <td>35</td>\n",
       "      <td>20393.44</td>\n",
       "    </tr>\n",
       "    <tr>\n",
       "      <th>9980</th>\n",
       "      <td>15719276</td>\n",
       "      <td>741</td>\n",
       "      <td>Spain</td>\n",
       "      <td>Male</td>\n",
       "      <td>35</td>\n",
       "      <td>99595.67</td>\n",
       "    </tr>\n",
       "    <tr>\n",
       "      <th>9987</th>\n",
       "      <td>15588839</td>\n",
       "      <td>606</td>\n",
       "      <td>Spain</td>\n",
       "      <td>Male</td>\n",
       "      <td>30</td>\n",
       "      <td>1914.41</td>\n",
       "    </tr>\n",
       "    <tr>\n",
       "      <th>9989</th>\n",
       "      <td>15605622</td>\n",
       "      <td>841</td>\n",
       "      <td>Spain</td>\n",
       "      <td>Male</td>\n",
       "      <td>28</td>\n",
       "      <td>179436.60</td>\n",
       "    </tr>\n",
       "    <tr>\n",
       "      <th>9992</th>\n",
       "      <td>15657105</td>\n",
       "      <td>726</td>\n",
       "      <td>Spain</td>\n",
       "      <td>Male</td>\n",
       "      <td>36</td>\n",
       "      <td>195192.40</td>\n",
       "    </tr>\n",
       "  </tbody>\n",
       "</table>\n",
       "<p>2477 rows × 6 columns</p>\n",
       "</div>"
      ],
      "text/plain": [
       "      CustomerId  CreditScore Geography  Gender  Age  EstimatedSalary\n",
       "1       15647311          608     Spain  Female   41        112542.58\n",
       "4       15737888          850     Spain  Female   43         79084.10\n",
       "5       15574012          645     Spain    Male   44        149756.71\n",
       "11      15737173          497     Spain    Male   24         76390.01\n",
       "14      15600882          635     Spain  Female   35         65951.65\n",
       "...          ...          ...       ...     ...  ...              ...\n",
       "9966    15590213          479     Spain    Male   35         20393.44\n",
       "9980    15719276          741     Spain    Male   35         99595.67\n",
       "9987    15588839          606     Spain    Male   30          1914.41\n",
       "9989    15605622          841     Spain    Male   28        179436.60\n",
       "9992    15657105          726     Spain    Male   36        195192.40\n",
       "\n",
       "[2477 rows x 6 columns]"
      ]
     },
     "execution_count": 68,
     "metadata": {},
     "output_type": "execute_result"
    }
   ],
   "source": [
    "# Criando um dataframe da Espanha\n",
    "df_spain = df1[df1['Geography'] == 'Spain'].copy()\n",
    "df_spain"
   ]
  },
  {
   "cell_type": "code",
   "execution_count": 71,
   "id": "20361bda",
   "metadata": {},
   "outputs": [
    {
     "data": {
      "image/png": "[encoded data removed]",
      "text/plain": [
       "<Figure size 600x600 with 1 Axes>"
      ]
     },
     "metadata": {},
     "output_type": "display_data"
    }
   ],
   "source": [
    "# Criando um gráfico de pizza para clientes M e F da Espanha\n",
    "grupo_por_genero = df_spain.groupby('Gender').size()\n",
    "plt.figure(figsize=(6, 6))\n",
    "plt.pie(grupo_por_genero, labels=grupo_por_genero.index, autopct='%1.1f%%', startangle=140, colors=['blue', 'pink'])\n",
    "plt.title('Distribuição de Gênero')\n",
    "plt.show()"
   ]
  },
  {
   "cell_type": "markdown",
   "id": "fb5473ef",
   "metadata": {},
   "source": [
    "### 2.3 - Criando um dataframe da Alemanha."
   ]
  },
  {
   "cell_type": "code",
   "execution_count": 73,
   "id": "9b48b611",
   "metadata": {},
   "outputs": [
    {
     "data": {
      "text/html": [
       "<div>\n",
       "<style scoped>\n",
       "    .dataframe tbody tr th:only-of-type {\n",
       "        vertical-align: middle;\n",
       "    }\n",
       "\n",
       "    .dataframe tbody tr th {\n",
       "        vertical-align: top;\n",
       "    }\n",
       "\n",
       "    .dataframe thead th {\n",
       "        text-align: right;\n",
       "    }\n",
       "</style>\n",
       "<table border=\"1\" class=\"dataframe\">\n",
       "  <thead>\n",
       "    <tr style=\"text-align: right;\">\n",
       "      <th></th>\n",
       "      <th>CustomerId</th>\n",
       "      <th>CreditScore</th>\n",
       "      <th>Geography</th>\n",
       "      <th>Gender</th>\n",
       "      <th>Age</th>\n",
       "      <th>EstimatedSalary</th>\n",
       "    </tr>\n",
       "  </thead>\n",
       "  <tbody>\n",
       "    <tr>\n",
       "      <th>7</th>\n",
       "      <td>15656148</td>\n",
       "      <td>376</td>\n",
       "      <td>Germany</td>\n",
       "      <td>Female</td>\n",
       "      <td>29</td>\n",
       "      <td>119346.88</td>\n",
       "    </tr>\n",
       "    <tr>\n",
       "      <th>15</th>\n",
       "      <td>15643966</td>\n",
       "      <td>616</td>\n",
       "      <td>Germany</td>\n",
       "      <td>Male</td>\n",
       "      <td>45</td>\n",
       "      <td>64327.26</td>\n",
       "    </tr>\n",
       "    <tr>\n",
       "      <th>16</th>\n",
       "      <td>15737452</td>\n",
       "      <td>653</td>\n",
       "      <td>Germany</td>\n",
       "      <td>Male</td>\n",
       "      <td>58</td>\n",
       "      <td>5097.67</td>\n",
       "    </tr>\n",
       "    <tr>\n",
       "      <th>26</th>\n",
       "      <td>15736816</td>\n",
       "      <td>756</td>\n",
       "      <td>Germany</td>\n",
       "      <td>Male</td>\n",
       "      <td>36</td>\n",
       "      <td>170041.95</td>\n",
       "    </tr>\n",
       "    <tr>\n",
       "      <th>28</th>\n",
       "      <td>15728693</td>\n",
       "      <td>574</td>\n",
       "      <td>Germany</td>\n",
       "      <td>Female</td>\n",
       "      <td>43</td>\n",
       "      <td>100187.43</td>\n",
       "    </tr>\n",
       "    <tr>\n",
       "      <th>...</th>\n",
       "      <td>...</td>\n",
       "      <td>...</td>\n",
       "      <td>...</td>\n",
       "      <td>...</td>\n",
       "      <td>...</td>\n",
       "      <td>...</td>\n",
       "    </tr>\n",
       "    <tr>\n",
       "      <th>9982</th>\n",
       "      <td>15768163</td>\n",
       "      <td>655</td>\n",
       "      <td>Germany</td>\n",
       "      <td>Female</td>\n",
       "      <td>46</td>\n",
       "      <td>115146.40</td>\n",
       "    </tr>\n",
       "    <tr>\n",
       "      <th>9984</th>\n",
       "      <td>15696175</td>\n",
       "      <td>602</td>\n",
       "      <td>Germany</td>\n",
       "      <td>Male</td>\n",
       "      <td>35</td>\n",
       "      <td>51695.41</td>\n",
       "    </tr>\n",
       "    <tr>\n",
       "      <th>9986</th>\n",
       "      <td>15581736</td>\n",
       "      <td>673</td>\n",
       "      <td>Germany</td>\n",
       "      <td>Male</td>\n",
       "      <td>47</td>\n",
       "      <td>34047.54</td>\n",
       "    </tr>\n",
       "    <tr>\n",
       "      <th>9990</th>\n",
       "      <td>15798964</td>\n",
       "      <td>714</td>\n",
       "      <td>Germany</td>\n",
       "      <td>Male</td>\n",
       "      <td>33</td>\n",
       "      <td>53667.08</td>\n",
       "    </tr>\n",
       "    <tr>\n",
       "      <th>9998</th>\n",
       "      <td>15682355</td>\n",
       "      <td>772</td>\n",
       "      <td>Germany</td>\n",
       "      <td>Male</td>\n",
       "      <td>42</td>\n",
       "      <td>92888.52</td>\n",
       "    </tr>\n",
       "  </tbody>\n",
       "</table>\n",
       "<p>2509 rows × 6 columns</p>\n",
       "</div>"
      ],
      "text/plain": [
       "      CustomerId  CreditScore Geography  Gender  Age  EstimatedSalary\n",
       "7       15656148          376   Germany  Female   29        119346.88\n",
       "15      15643966          616   Germany    Male   45         64327.26\n",
       "16      15737452          653   Germany    Male   58          5097.67\n",
       "26      15736816          756   Germany    Male   36        170041.95\n",
       "28      15728693          574   Germany  Female   43        100187.43\n",
       "...          ...          ...       ...     ...  ...              ...\n",
       "9982    15768163          655   Germany  Female   46        115146.40\n",
       "9984    15696175          602   Germany    Male   35         51695.41\n",
       "9986    15581736          673   Germany    Male   47         34047.54\n",
       "9990    15798964          714   Germany    Male   33         53667.08\n",
       "9998    15682355          772   Germany    Male   42         92888.52\n",
       "\n",
       "[2509 rows x 6 columns]"
      ]
     },
     "execution_count": 73,
     "metadata": {},
     "output_type": "execute_result"
    }
   ],
   "source": [
    "df_germany = df1[df1['Geography'] == 'Germany'].copy()\n",
    "df_germany"
   ]
  },
  {
   "cell_type": "code",
   "execution_count": 75,
   "id": "2cd57594",
   "metadata": {},
   "outputs": [
    {
     "data": {
      "image/png": "[encoded data removed]",
      "text/plain": [
       "<Figure size 600x600 with 1 Axes>"
      ]
     },
     "metadata": {},
     "output_type": "display_data"
    }
   ],
   "source": [
    "# Criando um gráfico de pizza para clientes M e F da Espanha\n",
    "grupo_por_genero = df_germany.groupby('Gender').size()\n",
    "plt.figure(figsize=(6, 6))\n",
    "plt.pie(grupo_por_genero, labels=grupo_por_genero.index, autopct='%1.1f%%', startangle=140, colors=['blue', 'pink'])\n",
    "plt.title('Distribuição de Gênero')\n",
    "plt.show()"
   ]
  },
  {
   "cell_type": "markdown",
   "id": "2a02e415",
   "metadata": {},
   "source": [
    "### 3 - Qual faixa etária tem o maior score de crédito envolvendo todos os países."
   ]
  },
  {
   "cell_type": "code",
   "execution_count": 77,
   "id": "caafef28",
   "metadata": {},
   "outputs": [
    {
     "name": "stdout",
     "output_type": "stream",
     "text": [
      "Faixa etária com maior média do CreditScore: De 36 a 40 anos\n"
     ]
    }
   ],
   "source": [
    "# Criando as faixas etárias\n",
    "faixas_etarias = [\n",
    "    ('Abaixo de 25 anos', (0, 25)),\n",
    "    ('De 25 a 30 anos', (25, 30)),\n",
    "    ('De 31 a 35 anos', (31, 35)),\n",
    "    ('De 36 a 40 anos', (36, 40)),\n",
    "    ('De 41 a 45 anos', (41, 45)),\n",
    "    ('Acima de 46 anos', (46, 200))\n",
    "]\n",
    "\n",
    "# Adicionando uma nova coluna ao dataframe com a faixa etária correspondente\n",
    "df1['Faixa Etária'] = pd.cut(df1['Age'], bins=[start for _, (start, _) in faixas_etarias] + [200], labels=[faixa for faixa, _ in faixas_etarias])\n",
    "\n",
    "# Agrupando os dados por faixa etária e calculando a média do CreditScore\n",
    "media_scores_por_faixa = df1.groupby('Faixa Etária')['CreditScore'].mean()\n",
    "\n",
    "# Encontrando a faixa etária com a maior média do CreditScore\n",
    "faixa_maior_media = media_scores_por_faixa.idxmax()\n",
    "\n",
    "print(\"Faixa etária com maior média do CreditScore:\", faixa_maior_media)"
   ]
  },
  {
   "cell_type": "markdown",
   "id": "0cb84c17",
   "metadata": {},
   "source": [
    "Faixa etária com maior média do CreditScore: De 36 a 40 anos"
   ]
  }
 ],
 "metadata": {
  "kernelspec": {
   "display_name": "Python 3 (ipykernel)",
   "language": "python",
   "name": "python3"
  },
  "language_info": {
   "codemirror_mode": {
    "name": "ipython",
    "version": 3
   },
   "file_extension": ".py",
   "mimetype": "text/x-python",
   "name": "python",
   "nbconvert_exporter": "python",
   "pygments_lexer": "ipython3",
   "version": "3.9.13"
  }
 },
 "nbformat": 4,
 "nbformat_minor": 5
}
